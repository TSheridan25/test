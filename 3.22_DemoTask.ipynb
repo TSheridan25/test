{
 "cells": [
  {
   "cell_type": "code",
   "execution_count": 13,
   "id": "3d5f1883-760b-48ed-9959-b613fc35bb60",
   "metadata": {},
   "outputs": [
    {
     "name": "stdout",
     "output_type": "stream",
     "text": [
      "INTERCEPT: 3.7603408919759493\n",
      "COEFS: [0.        0.3512853]\n"
     ]
    }
   ],
   "source": [
    "import pandas as pd\n",
    "import numpy as np\n",
    "import urllib\n",
    "       \n",
    "url = 'https://github.com/LeDataSciFi/data/raw/main/Fannie%20Mae/Fannie_Mae_Plus_Data.gzip?raw=true'\n",
    "fannie_mae = pd.read_csv(url,compression='gzip')\n",
    "\n",
    "# My code\n",
    "\n",
    "fm_df = fannie_mae.assign(log_LTV = np.log(fannie_mae['Original_LTV_(OLTV)'])).assign(const = 1)\n",
    "\n",
    "from sklearn.linear_model import LinearRegression\n",
    "\n",
    "y = fm_df['Original_Interest_Rate'] \n",
    "X = fm_df[['const','log_LTV']] \n",
    "\n",
    "model = LinearRegression() \n",
    "results = model.fit(X,y) \n",
    "print('INTERCEPT:', results.intercept_) \n",
    "print('COEFS:', results.coef_) \n",
    "y_predicted = results.predict(X) \n",
    "residuals = y - y_predicted"
   ]
  }
 ],
 "metadata": {
  "kernelspec": {
   "display_name": "Python 3 (ipykernel)",
   "language": "python",
   "name": "python3"
  },
  "language_info": {
   "codemirror_mode": {
    "name": "ipython",
    "version": 3
   },
   "file_extension": ".py",
   "mimetype": "text/x-python",
   "name": "python",
   "nbconvert_exporter": "python",
   "pygments_lexer": "ipython3",
   "version": "3.9.15"
  }
 },
 "nbformat": 4,
 "nbformat_minor": 5
}
